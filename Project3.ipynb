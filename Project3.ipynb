{
 "cells": [
  {
   "cell_type": "code",
   "execution_count": 18,
   "id": "bd68c928-a5e2-41e9-8b38-3a3d8bb32256",
   "metadata": {},
   "outputs": [],
   "source": [
    "import pandas as pd\n",
    "import os"
   ]
  },
  {
   "cell_type": "code",
   "execution_count": 7,
   "id": "95d7c2e3-c3e7-478c-85e8-01d541f03af4",
   "metadata": {},
   "outputs": [],
   "source": [
    "basics_name = '/Users/JoshuaRohn/Documents/GitHub/Project3/name.basics.tsv.gz'\n",
    "ratings_file = '/Users/JoshuaRohn/Desktop/SQL DATA/title.ratings.tsv.gz'\n",
    "akas_file = '/Users/JoshuaRohn/Desktop/SQL DATA/title.akas.tsv.gz'"
   ]
  },
  {
   "cell_type": "code",
   "execution_count": 8,
   "id": "9edd01cf-c7d9-440e-9802-3874834a0b2f",
   "metadata": {},
   "outputs": [
    {
     "name": "stderr",
     "output_type": "stream",
     "text": [
      "/var/folders/h7/97hfnxr93g570s_js7p5lr9h0000gn/T/ipykernel_8387/4025712473.py:3: DtypeWarning: Columns (7) have mixed types. Specify dtype option on import or set low_memory=False.\n",
      "  title_akas = pd.read_csv(akas_file, sep='\\t', compression='gzip')\n"
     ]
    }
   ],
   "source": [
    "name_basics = pd.read_csv(basics_name, sep='\\t', compression='gzip')\n",
    "title_ratings = pd.read_csv(ratings_file, sep='\\t', compression='gzip')\n",
    "title_akas = pd.read_csv(akas_file, sep='\\t', compression='gzip')"
   ]
  },
  {
   "cell_type": "code",
   "execution_count": 10,
   "id": "a6cb420b-a7ca-45ce-b3b4-6678a22ab0cb",
   "metadata": {},
   "outputs": [
    {
     "name": "stdout",
     "output_type": "stream",
     "text": [
      "title_basics columns:\n",
      "Index(['nconst', 'primaryName', 'birthYear', 'deathYear', 'primaryProfession',\n",
      "       'knownForTitles'],\n",
      "      dtype='object')\n",
      "title_ratings columns:\n",
      "Index(['tconst', 'averageRating', 'numVotes'], dtype='object')\n",
      "title_akas columns:\n",
      "Index(['titleId', 'ordering', 'title', 'region', 'language', 'types',\n",
      "       'attributes', 'isOriginalTitle'],\n",
      "      dtype='object')\n"
     ]
    }
   ],
   "source": [
    "print(\"title_basics columns:\")\n",
    "print(name_basics.columns)\n",
    "\n",
    "print(\"title_ratings columns:\")\n",
    "print(title_ratings.columns)\n",
    "\n",
    "print(\"title_akas columns:\")\n",
    "print(title_akas.columns)"
   ]
  },
  {
   "cell_type": "code",
   "execution_count": 14,
   "id": "46c5f536-856e-4b86-b6bb-87e88f57c257",
   "metadata": {},
   "outputs": [],
   "source": [
    "filtered_movies = title_basics[\n",
    "    (name_basics['primaryProfession'].str.contains('actor|actress', case=False, na=False)) & \n",
    "    (name_basics['birthYear'].notna())  ]"
   ]
  },
  {
   "cell_type": "code",
   "execution_count": 16,
   "id": "242c3a39-cf82-41db-8956-12b5d8c48bac",
   "metadata": {},
   "outputs": [
    {
     "name": "stdout",
     "output_type": "stream",
     "text": [
      "Filtered Movies Info:\n",
      "<class 'pandas.core.frame.DataFrame'>\n",
      "Int64Index: 4824167 entries, 0 to 12865605\n",
      "Data columns (total 6 columns):\n",
      " #   Column             Dtype \n",
      "---  ------             ----- \n",
      " 0   nconst             object\n",
      " 1   primaryName        object\n",
      " 2   birthYear          object\n",
      " 3   deathYear          object\n",
      " 4   primaryProfession  object\n",
      " 5   knownForTitles     object\n",
      "dtypes: object(6)\n",
      "memory usage: 257.6+ MB\n",
      "None\n"
     ]
    }
   ],
   "source": [
    "print(\"Filtered Movies Info:\")\n",
    "print(filtered_movies.info())"
   ]
  },
  {
   "cell_type": "code",
   "execution_count": 19,
   "id": "53e08b32-5002-404f-9722-22ebdb6fb4ff",
   "metadata": {},
   "outputs": [],
   "source": [
    "output_folder = 'Data'\n",
    "os.makedirs(output_folder, exist_ok=True)"
   ]
  },
  {
   "cell_type": "code",
   "execution_count": null,
   "id": "f4e577ae-10b6-4bd9-b97c-d3db095d1dc5",
   "metadata": {},
   "outputs": [],
   "source": [
    "filtered_movies.to_csv(os.path.join(output_folder, 'filtered_movies.csv.gz'), index=False, compression='gzip')"
   ]
  }
 ],
 "metadata": {
  "kernelspec": {
   "display_name": "Python 3 (ipykernel)",
   "language": "python",
   "name": "python3"
  },
  "language_info": {
   "codemirror_mode": {
    "name": "ipython",
    "version": 3
   },
   "file_extension": ".py",
   "mimetype": "text/x-python",
   "name": "python",
   "nbconvert_exporter": "python",
   "pygments_lexer": "ipython3",
   "version": "3.10.10"
  }
 },
 "nbformat": 4,
 "nbformat_minor": 5
}
