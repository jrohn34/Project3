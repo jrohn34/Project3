{
 "cells": [
  {
   "cell_type": "code",
   "execution_count": 2,
   "id": "d35cd325-e4d2-4221-98bf-91c1bcccd34a",
   "metadata": {},
   "outputs": [],
   "source": [
    "import pandas as pd\n",
    "import numpy as np\n",
    "import os"
   ]
  },
  {
   "cell_type": "code",
   "execution_count": 3,
   "id": "ebb9e752-f82c-4128-9638-97c97ae40b8b",
   "metadata": {},
   "outputs": [
    {
     "name": "stderr",
     "output_type": "stream",
     "text": [
      "/var/folders/h7/97hfnxr93g570s_js7p5lr9h0000gn/T/ipykernel_62406/2025018888.py:2: DtypeWarning: Columns (7) have mixed types. Specify dtype option on import or set low_memory=False.\n",
      "  akas_df = pd.read_csv(akas_file, sep='\\t', compression='gzip')\n"
     ]
    }
   ],
   "source": [
    "akas_file = '/Users/JoshuaRohn/Desktop/SQL DATA/title.akas.tsv.gz'\n",
    "akas_df = pd.read_csv(akas_file, sep='\\t', compression='gzip')"
   ]
  },
  {
   "cell_type": "code",
   "execution_count": 4,
   "id": "4f44370d-9bae-408a-ad37-d8a63f653e5e",
   "metadata": {},
   "outputs": [],
   "source": [
    "akas_df = akas_df[akas_df['region'] == 'US']\n",
    "akas_df.replace('\\\\N', np.nan, inplace=True)"
   ]
  },
  {
   "cell_type": "code",
   "execution_count": 5,
   "id": "57b2f05b-fae7-4847-92af-ecec58da5005",
   "metadata": {},
   "outputs": [
    {
     "name": "stderr",
     "output_type": "stream",
     "text": [
      "/var/folders/h7/97hfnxr93g570s_js7p5lr9h0000gn/T/ipykernel_62406/4154712586.py:2: DtypeWarning: Columns (4) have mixed types. Specify dtype option on import or set low_memory=False.\n",
      "  basics_df = pd.read_csv(basics_file, sep='\\t', compression='gzip')\n"
     ]
    }
   ],
   "source": [
    "basics_file = '/Users/JoshuaRohn/Desktop/SQL DATA/title.basics.tsv.gz'\n",
    "basics_df = pd.read_csv(basics_file, sep='\\t', compression='gzip')"
   ]
  },
  {
   "cell_type": "code",
   "execution_count": 6,
   "id": "38ddc4ee-50a9-44b9-b741-d538f92b4628",
   "metadata": {},
   "outputs": [],
   "source": [
    "basics_df = basics_df[basics_df['tconst'].isin(akas_df['titleId'])]\n",
    "basics_df.replace('\\\\N', np.nan, inplace=True)\n",
    "basics_df = basics_df.dropna(subset=['runtimeMinutes'])\n",
    "basics_df = basics_df.dropna(subset=['genres'])\n",
    "basics_df = basics_df[basics_df['titleType'] == 'movie']\n",
    "basics_df['startYear'] = basics_df['startYear'].astype(float)\n",
    "basics_df = basics_df[(basics_df['startYear'] >= 2000) & (basics_df['startYear'] <= 2021)]\n",
    "basics_df = basics_df[~basics_df['genres'].str.contains('Documentary', case=False, na=False)]"
   ]
  },
  {
   "cell_type": "code",
   "execution_count": 7,
   "id": "e83a5a05-8467-468a-a640-52e5f5a41d16",
   "metadata": {},
   "outputs": [],
   "source": [
    "ratings_file = '/Users/JoshuaRohn/Desktop/SQL DATA/title.ratings.tsv.gz'\n",
    "ratings_df = pd.read_csv(ratings_file, sep='\\t', compression='gzip')"
   ]
  },
  {
   "cell_type": "code",
   "execution_count": 8,
   "id": "0eeaa1ea-33ef-4e65-9e5a-c1883afbf6a8",
   "metadata": {},
   "outputs": [],
   "source": [
    "ratings_df = ratings_df[ratings_df['tconst'].isin(basics_df['tconst'])]\n",
    "ratings_df.replace('\\\\N', np.nan, inplace=True)"
   ]
  },
  {
   "cell_type": "code",
   "execution_count": 9,
   "id": "4d1786a4-4f15-44d0-ab31-f746ee409c66",
   "metadata": {},
   "outputs": [
    {
     "name": "stdout",
     "output_type": "stream",
     "text": [
      "Filtered AKAs Info:\n",
      "<class 'pandas.core.frame.DataFrame'>\n",
      "Int64Index: 1466999 entries, 5 to 37255016\n",
      "Data columns (total 8 columns):\n",
      " #   Column           Non-Null Count    Dtype \n",
      "---  ------           --------------    ----- \n",
      " 0   titleId          1466999 non-null  object\n",
      " 1   ordering         1466999 non-null  int64 \n",
      " 2   title            1466999 non-null  object\n",
      " 3   region           1466999 non-null  object\n",
      " 4   language         4139 non-null     object\n",
      " 5   types            983972 non-null   object\n",
      " 6   attributes       47506 non-null    object\n",
      " 7   isOriginalTitle  1465657 non-null  object\n",
      "dtypes: int64(1), object(7)\n",
      "memory usage: 100.7+ MB\n",
      "None\n",
      "Filtered Basics Info:\n",
      "<class 'pandas.core.frame.DataFrame'>\n",
      "Int64Index: 82109 entries, 34800 to 10215213\n",
      "Data columns (total 9 columns):\n",
      " #   Column          Non-Null Count  Dtype  \n",
      "---  ------          --------------  -----  \n",
      " 0   tconst          82109 non-null  object \n",
      " 1   titleType       82109 non-null  object \n",
      " 2   primaryTitle    82109 non-null  object \n",
      " 3   originalTitle   82109 non-null  object \n",
      " 4   isAdult         82109 non-null  object \n",
      " 5   startYear       82109 non-null  float64\n",
      " 6   endYear         0 non-null      object \n",
      " 7   runtimeMinutes  82109 non-null  object \n",
      " 8   genres          82109 non-null  object \n",
      "dtypes: float64(1), object(8)\n",
      "memory usage: 6.3+ MB\n",
      "None\n",
      "Filtered Ratings Info:\n",
      "<class 'pandas.core.frame.DataFrame'>\n",
      "Int64Index: 68263 entries, 17920 to 1351291\n",
      "Data columns (total 3 columns):\n",
      " #   Column         Non-Null Count  Dtype  \n",
      "---  ------         --------------  -----  \n",
      " 0   tconst         68263 non-null  object \n",
      " 1   averageRating  68263 non-null  float64\n",
      " 2   numVotes       68263 non-null  int64  \n",
      "dtypes: float64(1), int64(1), object(1)\n",
      "memory usage: 2.1+ MB\n",
      "None\n"
     ]
    }
   ],
   "source": [
    "print(\"Filtered AKAs Info:\")\n",
    "print(akas_df.info())\n",
    "\n",
    "print(\"Filtered Basics Info:\")\n",
    "print(basics_df.info())\n",
    "\n",
    "print(\"Filtered Ratings Info:\")\n",
    "print(ratings_df.info())"
   ]
  },
  {
   "cell_type": "code",
   "execution_count": 10,
   "id": "f9de6dad-307e-404b-b334-73c684d8b48b",
   "metadata": {},
   "outputs": [],
   "source": [
    "output_folder = 'Data'\n",
    "os.makedirs(output_folder, exist_ok=True)"
   ]
  },
  {
   "cell_type": "code",
   "execution_count": 11,
   "id": "378c7f6b-6d6a-473c-a0b6-94007f7f8db5",
   "metadata": {},
   "outputs": [],
   "source": [
    "akas_df.to_csv(os.path.join(output_folder, 'filtered_akas.csv.gz'), index=False, compression='gzip')\n",
    "basics_df.to_csv(os.path.join(output_folder, 'filtered_basics.csv.gz'), index=False, compression='gzip')\n",
    "ratings_df.to_csv(os.path.join(output_folder, 'filtered_ratings.csv.gz'), index=False, compression='gzip')"
   ]
  },
  {
   "cell_type": "code",
   "execution_count": null,
   "id": "4f2e5901-12f8-49c4-b73a-8181658c97bb",
   "metadata": {},
   "outputs": [],
   "source": []
  }
 ],
 "metadata": {
  "kernelspec": {
   "display_name": "Python 3 (ipykernel)",
   "language": "python",
   "name": "python3"
  },
  "language_info": {
   "codemirror_mode": {
    "name": "ipython",
    "version": 3
   },
   "file_extension": ".py",
   "mimetype": "text/x-python",
   "name": "python",
   "nbconvert_exporter": "python",
   "pygments_lexer": "ipython3",
   "version": "3.10.10"
  }
 },
 "nbformat": 4,
 "nbformat_minor": 5
}
