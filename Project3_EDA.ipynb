{
 "cells": [
  {
   "cell_type": "code",
   "execution_count": 2,
   "id": "7aea496e-85fd-4734-9295-d4157b7c6da2",
   "metadata": {},
   "outputs": [],
   "source": [
    "import pandas as pd"
   ]
  },
  {
   "cell_type": "code",
   "execution_count": 4,
   "id": "10dda8f1-9c48-49e0-b70b-10b3e628f9c0",
   "metadata": {},
   "outputs": [],
   "source": [
    "combined_data = pd.DataFrame()"
   ]
  },
  {
   "cell_type": "code",
   "execution_count": 5,
   "id": "23ae3750-9ba3-4aee-b4fa-49ca7f2b98fc",
   "metadata": {},
   "outputs": [],
   "source": [
    "data_file = 'Data/final_tmdb_data_2001.csv.gz'\n",
    "year_data = pd.read_csv(data_file, compression='gzip')\n",
    "combined_data = pd.concat([combined_data, year_data])"
   ]
  },
  {
   "cell_type": "code",
   "execution_count": 6,
   "id": "ccbd66b4-65bb-42e5-8534-8ddd43f60c0d",
   "metadata": {},
   "outputs": [],
   "source": [
    "combined_data = combined_data[(combined_data['budget'] > 0) | (combined_data['revenue'] > 0)]"
   ]
  },
  {
   "cell_type": "code",
   "execution_count": 7,
   "id": "0a6289f8-9c1b-4ed9-ad08-f205e83b394a",
   "metadata": {},
   "outputs": [],
   "source": [
    "valid_financial_info_count = len(combined_data)"
   ]
  },
  {
   "cell_type": "code",
   "execution_count": 8,
   "id": "317ac308-846e-4de4-9a58-c641a8a1efec",
   "metadata": {},
   "outputs": [],
   "source": [
    "certification_counts = combined_data['certification'].value_counts()"
   ]
  },
  {
   "cell_type": "code",
   "execution_count": 9,
   "id": "42cafb75-9cac-4745-b4a9-612c7b5e653c",
   "metadata": {},
   "outputs": [],
   "source": [
    "average_revenue_per_certification = combined_data.groupby('certification')['revenue'].mean()\n",
    "average_budget_per_certification = combined_data.groupby('certification')['budget'].mean()"
   ]
  },
  {
   "cell_type": "code",
   "execution_count": 13,
   "id": "b2a55616-3d81-48d6-991b-017b5f459c1e",
   "metadata": {},
   "outputs": [],
   "source": [
    "pd.options.display.float_format = '{:,.2f}'.format"
   ]
  },
  {
   "cell_type": "code",
   "execution_count": 14,
   "id": "af5d624c-f9f4-4bbb-90b4-0d34676448cc",
   "metadata": {},
   "outputs": [
    {
     "name": "stdout",
     "output_type": "stream",
     "text": [
      "Movies with valid financial information: 1205\n",
      "Movies in each certification category:\n",
      "R        461\n",
      "PG-13    275\n",
      "PG        65\n",
      "NR        28\n",
      "G         25\n",
      "Name: certification, dtype: int64\n",
      "Average revenue per certification category:\n",
      "certification\n",
      "G       143,848,981.12\n",
      "NR        8,044,703.43\n",
      "PG      152,883,028.37\n",
      "PG-13    98,506,465.16\n",
      "R        36,296,763.94\n",
      "Name: revenue, dtype: float64\n",
      "Average budget per certification category:\n",
      "certification\n",
      "G       32,920,000.00\n",
      "NR       1,974,642.89\n",
      "PG      45,863,803.54\n",
      "PG-13   41,563,636.68\n",
      "R       21,316,017.25\n",
      "Name: budget, dtype: float64\n"
     ]
    }
   ],
   "source": [
    "print(f\"Movies with valid financial information: {valid_financial_info_count}\")\n",
    "print(f\"Movies in each certification category:\")\n",
    "print(certification_counts)\n",
    "print(\"Average revenue per certification category:\")\n",
    "print(average_revenue_per_certification)\n",
    "print(\"Average budget per certification category:\")\n",
    "print(average_budget_per_certification)"
   ]
  },
  {
   "cell_type": "code",
   "execution_count": null,
   "id": "c408671c-672a-46ae-a466-c74df01eb864",
   "metadata": {},
   "outputs": [],
   "source": []
  }
 ],
 "metadata": {
  "kernelspec": {
   "display_name": "Python 3 (ipykernel)",
   "language": "python",
   "name": "python3"
  },
  "language_info": {
   "codemirror_mode": {
    "name": "ipython",
    "version": 3
   },
   "file_extension": ".py",
   "mimetype": "text/x-python",
   "name": "python",
   "nbconvert_exporter": "python",
   "pygments_lexer": "ipython3",
   "version": "3.10.10"
  }
 },
 "nbformat": 4,
 "nbformat_minor": 5
}
